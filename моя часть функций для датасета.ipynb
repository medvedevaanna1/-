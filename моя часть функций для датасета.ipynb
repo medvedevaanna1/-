{
 "cells": [
  {
   "cell_type": "markdown",
   "metadata": {},
   "source": [
    "МОЙ ВКЛАД\n",
    "\n",
    "https://www.banki.ru/products/deposits/deposit/20217/?rate_id=2712310&amount=0\n",
    "\n",
    "ДЛЯ ПРОВЕРКИ\n",
    "\n",
    "https://www.banki.ru/products/deposits/deposit/20147/?rate_id=2707353&amount=0\n",
    "https://www.banki.ru/products/deposits/deposit/14907/"
   ]
  },
  {
   "cell_type": "code",
   "execution_count": 1,
   "metadata": {},
   "outputs": [
    {
     "name": "stdout",
     "output_type": "stream",
     "text": [
      "Вклад СмартВклад (с повышенной ставкой) Тинькофф Банк\n"
     ]
    }
   ],
   "source": [
    "from bs4 import BeautifulSoup\n",
    "import requests\n",
    "import pandas as pd\n",
    "import re\n",
    "\n",
    "url = 'https://www.banki.ru/products/deposits/deposit/14907/'\n",
    "r = requests.get(url)\n",
    "with open('text.html', 'w') as output_file:\n",
    "    output_file.write(r.text)\n",
    "    \n",
    "result = pd.DataFrame()\n",
    "\n",
    "soup = BeautifulSoup(r.text) #Отправляем полученную страницу в библиотеку для парсинга\n",
    "\n",
    "# Нашли все пункты раздела \"Параметры вклада\"\n",
    "parameters_contribution=soup.find_all('div', {'class': 'border-bottom-colorMinorGrayLighten deposit-info-params-item flexbox padding-vert-medium'}) \n",
    "\n",
    "\n",
    "name_v=soup.h1.text.strip()\n",
    "\n",
    "print(name_v)"
   ]
  },
  {
   "cell_type": "code",
   "execution_count": 2,
   "metadata": {},
   "outputs": [
    {
     "data": {
      "text/plain": [
       "'возможно, но есть ограничения'"
      ]
     },
     "execution_count": 2,
     "metadata": {},
     "output_type": "execute_result"
    }
   ],
   "source": [
    "#  - Возвращает возможность снятия\n",
    "\n",
    "def get_withdrawal_possibility(soup):\n",
    "    snyat = soup.find(\"dt\",text=\"Частичное снятие\").findNext(\"dd\")\n",
    "    snyat = str(snyat)\n",
    "    pattern = re.compile('[а-яА-ЯёЁ/ 0-9,]+[;:]?')\n",
    "    spisok_rab = pattern.findall(snyat)\n",
    "    str_rab = ''.join(spisok_rab)\n",
    "    not_usl = str_rab.lower()\n",
    "    if str_rab == 'возможно' or str_rab == 'невозможно':\n",
    "        return not_usl.title()\n",
    "    else:\n",
    "        s_usl = spisok_rab[0]\n",
    "        s_usl = re.sub('[;:]', ' ', s_usl)\n",
    "        s_usl = s_usl.rstrip()\n",
    "        return s_usl\n",
    "    \n",
    "get_withdrawal_possibility(soup)   \n"
   ]
  },
  {
   "cell_type": "code",
   "execution_count": 3,
   "metadata": {},
   "outputs": [
    {
     "data": {
      "text/plain": [
       "'Возможна'"
      ]
     },
     "execution_count": 3,
     "metadata": {},
     "output_type": "execute_result"
    }
   ],
   "source": [
    "#  - Возвращает возможность пролонгации (возможна/невозможна/нет данных)\n",
    "\n",
    "def get_prolongation_possibility(soup):\n",
    "    try:\n",
    "        prolong = soup.find(\"dt\",text=\"Автопролонгация\").findNext(\"dd\").string.strip()\n",
    "        prolong = str(prolong)\n",
    "        prolong = prolong.lower()\n",
    "        if prolong == 'возможна' or prolong == 'невозможна':\n",
    "            return prolong.title()\n",
    "        else:\n",
    "            return 'Нет данных'\n",
    "    except AttributeError:\n",
    "        return 'Нет данных'        \n",
    "\n",
    "# try-except - если такого пункта на сайте вообще нет, то будет делаться это\n",
    "\n",
    "get_prolongation_possibility(soup)"
   ]
  },
  {
   "cell_type": "code",
   "execution_count": 4,
   "metadata": {},
   "outputs": [
    {
     "data": {
      "text/plain": [
       "['минимальная сумма снятия 15 000 рублей, 100 долларов евро',\n",
       " 'допускается не ранее чем через 60 дней после открытия вклада',\n",
       " 'проценты будут удерживаться пропорционально сумме изъятия и пересчитываться исходя из ставки 0,01 годовых на сумму изъятия',\n",
       " 'на остаток средств на счете вклада после частичного изъятия продолжают начисляться проценты согласно действующей ставке по вкладу']"
      ]
     },
     "execution_count": 4,
     "metadata": {},
     "output_type": "execute_result"
    }
   ],
   "source": [
    "#  - Возвращает условия снятия (если они есть) в виде списка, в случае отсутствия - None\n",
    "\n",
    "def get_withdrawal_conditions(soup):\n",
    "    snyat = soup.find(\"dt\",text=\"Частичное снятие\").findNext(\"dd\")\n",
    "    snyat = str(snyat)\n",
    "    pattern = re.compile('[а-яА-ЯёЁ/ 0-9,]+[;:]?')\n",
    "    spisok_usl = pattern.findall(snyat)\n",
    "    stroka_usl = ''.join(spisok_usl)\n",
    "    stroka_usl = re.sub('[/]', ' ', stroka_usl)\n",
    "    spisok_usl = stroka_usl.split(\":\")\n",
    "    if spisok_usl[0] == 'возможно, но есть ограничения':\n",
    "        stroka_usl = spisok_usl[1]\n",
    "        del spisok_usl[0]\n",
    "    spisok_usl = stroka_usl.split(\";\")\n",
    "    for t in range(len(spisok_usl)):\n",
    "        rab_str = spisok_usl[t]\n",
    "        rab_str = rab_str.rstrip()\n",
    "        rab_str = rab_str.strip()\n",
    "        rab_str = re.sub('[ ][ ]+[a-zA-Zа-яА-Я0-9;:][ ][ ]+', ' ', rab_str)\n",
    "        spisok_usl[t] = rab_str\n",
    "    if len(spisok_usl) == 1:\n",
    "        return None\n",
    "    else:\n",
    "        return spisok_usl\n",
    "get_withdrawal_conditions(soup)"
   ]
  },
  {
   "cell_type": "code",
   "execution_count": 11,
   "metadata": {},
   "outputs": [
    {
     "data": {
      "text/plain": [
       "['срок внесения пополнения в первые 30 дней с момента открытия вклада']"
      ]
     },
     "execution_count": 11,
     "metadata": {},
     "output_type": "execute_result"
    }
   ],
   "source": [
    "#  - Возвращает условия пополнения (если они есть) в виде списка, в случае отсутствия - None\n",
    "\n",
    "def get_replenishment_conditions(soup):\n",
    "    popoln = soup.find(\"dt\",text=\"Пополнение\").findNext(\"dd\")\n",
    "    popoln = str(popoln)\n",
    "    pattern = re.compile('[а-яА-ЯёЁ/ 0-9,]+[;:]?')\n",
    "    spisok_usl_pop = pattern.findall(popoln)\n",
    "    stroka_usl_pop = ''.join(spisok_usl_pop)\n",
    "    stroka_usl_pop = re.sub('[/]', ' ', stroka_usl_pop)\n",
    "    spisok_usl_pop = stroka_usl_pop.split(\":\")\n",
    "    if spisok_usl_pop[0] == 'возможно, но есть ограничения':\n",
    "        stroka_usl_pop = spisok_usl_pop[1]\n",
    "        del spisok_usl_pop[0]\n",
    "    spisok_usl_pop2 = stroka_usl_pop.split(\";\")\n",
    "    for t in range(len(spisok_usl_pop2)):\n",
    "        rab_str_u_p = spisok_usl_pop2[t]\n",
    "        rab_str_u_p = rab_str_u_p.rstrip()\n",
    "        rab_str_u_p = rab_str_u_p.strip()\n",
    "        rab_str_u_p = re.sub('[ ][ ]+[a-zA-Zа-яА-Я0-9;:][ ][ ]+', ' ', rab_str_u_p)\n",
    "        spisok_usl_pop2[t] = rab_str_u_p\n",
    "    if len(spisok_usl_pop2) == 0:\n",
    "        return None\n",
    "    else:\n",
    "        return spisok_usl_pop2\n",
    "    \n",
    "get_replenishment_conditions(soup)   "
   ]
  },
  {
   "cell_type": "code",
   "execution_count": 7,
   "metadata": {},
   "outputs": [
    {
     "data": {
      "text/plain": [
       "['вклад открывается дистанционно',\n",
       " 'комиссия за открытие вклада в офисе банка  1 000 рублей',\n",
       " 'для вкладов, открытых дистанционно, предусмотрена возможность перевода моновалютного вклада в мультивалютный по курсу банка без потери накопленных процентов',\n",
       " 'минимальная сумма конвертации 1 000 рублей, 10 долларов евро']"
      ]
     },
     "execution_count": 7,
     "metadata": {},
     "output_type": "execute_result"
    }
   ],
   "source": [
    "#  - Возвращает список с особыми условиями \n",
    "\n",
    "def get_custom_conditions(soup):\n",
    "    try:\n",
    "        osob_usl = soup.find(\"dt\",text=\"Особые условия\").findNext(\"dd\")\n",
    "        osob_usl = str(osob_usl)\n",
    "        pattern = re.compile('[а-яА-ЯёЁ/ 0-9,]+[;:]?')\n",
    "        spisok_osob_usl = pattern.findall(osob_usl)\n",
    "        stroka_osob_usl = ''.join(spisok_osob_usl)\n",
    "        stroka_osob_usl = re.sub('[/]', ' ', stroka_osob_usl)\n",
    "        spisok_osob_usl = stroka_osob_usl.split(\";\")\n",
    "        for t in range(len(spisok_osob_usl)):\n",
    "            rab_str_o_u = spisok_osob_usl[t]\n",
    "            rab_str_o_u = rab_str_o_u.rstrip()\n",
    "            rab_str_o_u = rab_str_o_u.strip()\n",
    "            rab_str_o_u = re.sub('[ ][ ]+[a-zA-Zа-яА-Я0-9;:][ ][ ]+', ' ', rab_str_o_u)\n",
    "            spisok_osob_usl[t] = rab_str_o_u\n",
    "        if len(spisok_osob_usl) == 1:\n",
    "            return None\n",
    "        else:\n",
    "            return spisok_osob_usl\n",
    "    except AttributeError:\n",
    "        return None\n",
    "    \n",
    "    \n",
    "    \n",
    "\n",
    "get_custom_conditions(soup)"
   ]
  },
  {
   "cell_type": "code",
   "execution_count": null,
   "metadata": {},
   "outputs": [],
   "source": []
  }
 ],
 "metadata": {
  "kernelspec": {
   "display_name": "Python 3",
   "language": "python",
   "name": "python3"
  },
  "language_info": {
   "codemirror_mode": {
    "name": "ipython",
    "version": 3
   },
   "file_extension": ".py",
   "mimetype": "text/x-python",
   "name": "python",
   "nbconvert_exporter": "python",
   "pygments_lexer": "ipython3",
   "version": "3.8.3"
  }
 },
 "nbformat": 4,
 "nbformat_minor": 4
}
